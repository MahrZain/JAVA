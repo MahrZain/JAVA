{
 "cells": [
  {
   "cell_type": "code",
   "execution_count": null,
   "metadata": {
    "vscode": {
     "languageId": "plaintext"
    }
   },
   "outputs": [],
   "source": [
    "/*\n",
    "======================================================\n",
    "               ******* ===>> 8 Bit = 1Byte *******\n",
    " * 1 Byte ==> -128 to 127\n",
    " * int ==> 4 Byte\n",
    " * short ==> 16 Bit (2 Byte)\n",
    " * long ==> 64 Bit (8 Byte)\n",
    " * double ==> \n",
    "=======================================================\n",
    " */\n"
   ]
  }
 ],
 "metadata": {
  "language_info": {
   "name": "python"
  }
 },
 "nbformat": 4,
 "nbformat_minor": 2
}
